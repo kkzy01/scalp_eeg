{
 "cells": [
  {
   "cell_type": "code",
   "execution_count": 1,
   "metadata": {},
   "outputs": [],
   "source": [
    "import numpy as np\n",
    "import pandas as pd\n",
    "from ieeg.auth import Session\n",
    "import os\n",
    "import time\n",
    "from tqdm import tqdm\n",
    "from numbers import Number\n",
    "import pyedflib\n",
    "import torch\n",
    "import glob\n",
    "import random"
   ]
  },
  {
   "cell_type": "code",
   "execution_count": 3,
   "metadata": {},
   "outputs": [],
   "source": [
    "def get_iEEG_data(\n",
    "    username,\n",
    "    password_bin_file,\n",
    "    iEEG_filename,\n",
    "    start_time_usec,\n",
    "    stop_time_usec=None,\n",
    "    select_electrodes=None,\n",
    "):\n",
    "\n",
    "    with open(password_bin_file, \"r\") as f:\n",
    "        s = Session(username, f.read())\n",
    "    ds = s.open_dataset(iEEG_filename)\n",
    "    all_channel_labels = ds.get_channel_labels()\n",
    "\n",
    "    start_time_usec = int(start_time_usec)\n",
    "    \n",
    "    if stop_time_usec is not None:\n",
    "        stop_time_usec = int(stop_time_usec)\n",
    "    else:\n",
    "        stop_time_usec = int(ds.get_time_series_details(all_channel_labels[0]).duration)\n",
    "\n",
    "    duration = stop_time_usec - start_time_usec\n",
    "\n",
    "    if select_electrodes is not None:\n",
    "        if isinstance(select_electrodes[0], Number):\n",
    "            channel_ids = select_electrodes\n",
    "            channel_names = [all_channel_labels[e] for e in channel_ids]\n",
    "        elif isinstance(select_electrodes[0], str):\n",
    "            channel_ids = [\n",
    "                i for i, e in enumerate(all_channel_labels) if e in select_electrodes\n",
    "            ]\n",
    "            channel_names = select_electrodes\n",
    "        else:\n",
    "            print(\"Electrodes not given as a list of ints or strings\")\n",
    "    else:\n",
    "        channel_ids = ds.get_channel_indices(all_channel_labels)\n",
    "        channel_names = all_channel_labels\n",
    "\n",
    "    try:\n",
    "        data = ds.get_data(start_time_usec, duration, channel_ids)\n",
    "    except:\n",
    "        # clip is probably too big, pull chunks and concatenate\n",
    "        clip_size = 60 * 1e6\n",
    "        clip_start = start_time_usec\n",
    "        data = None\n",
    "        while clip_start + clip_size < stop_time_usec:\n",
    "            if data is None:\n",
    "                data = ds.get_data(clip_start, clip_size, channel_ids)\n",
    "            else:\n",
    "                data = np.concatenate(\n",
    "                    ([data, ds.get_data(clip_start, clip_size, channel_ids)]), axis=0\n",
    "                )\n",
    "            clip_start = clip_start + clip_size\n",
    "        data = np.concatenate(\n",
    "            ([data, ds.get_data(clip_start, stop_time_usec - clip_start, channel_ids)]),\n",
    "            axis=0,\n",
    "        )\n",
    "\n",
    "    df = pd.DataFrame(data, columns=channel_names)\n",
    "    fs = ds.get_time_series_details(ds.ch_labels[0]).sample_rate  # get sample rate\n",
    "    return df\n",
    "\n",
    "def save_data(save_path,clips,idx,select_channels):\n",
    "    file_name = clips['ieeg_file_name'].iloc[idx]\n",
    "    a = clips.iloc[idx]\n",
    "    #define times\n",
    "    clip_start = a['clip_start']*1e6\n",
    "    if a['clip_end']>0: clip_end = a['clip_end']*1e6\n",
    "    else : clip_end = None\n",
    "    seizure_on = a['onset_time']*1e6\n",
    "    if seizure_on < clip_start:\n",
    "        seizure_on = clip_start\n",
    "    if a['offset_time_1']*1e6 > seizure_on:\n",
    "        seizure_off = a['offset_time_1']*1e6\n",
    "    elif a['offset_time_2']*1e6 > seizure_on:\n",
    "        seizure_off = a['offset_time_2']*1e6\n",
    "    else:\n",
    "        seizure_off = a['offset_time_3']*1e6\n",
    "    select_channels = ['C3', 'C4', 'Cz', 'F3', 'F4', 'F7', 'F8', 'Fp1', 'Fp2',\n",
    "                    'Fz', 'O1', 'O2', 'P3', 'P4', 'T3', 'T4', 'T5', 'T6']\n",
    "    #load from iEEG\n",
    "    df, fs, clip_end = get_iEEG_data(username='joie1',\n",
    "                        password_bin_file='ieeglogin.bin',\n",
    "                        iEEG_filename=file_name,\n",
    "                        start_time_usec=clip_start,\n",
    "                        stop_time_usec=clip_end,\n",
    "                        select_electrodes=select_channels)\n",
    "    #replace Pz channel\n",
    "    if 'Pz' in list(df.columns):\n",
    "        df['Pz'] = (df['P3']+df['Cz']+df['P4']+df['O1']+df['O2'])/5\n",
    "        \n",
    "    #convert labels\n",
    "    labels = [0]*int((seizure_on-clip_start)/1e6*fs)+[1]*int((seizure_off-seizure_on)/1e6*fs)+[0]*int((clip_end-seizure_off)/1e6*fs)\n",
    "    labels = labels+[0]*(df.shape[0]-len(labels))\n",
    "    id = clips['admission_id'].iloc[idx]+'_{}'.format(idx+1)\n",
    "    #df.to_pickle(save_path+id)\n",
    "\n",
    "    edf_file_name = f\"{id}.edf\"\n",
    "    edf_file_path = os.path.join(save_path, edf_file_name)\n",
    "\n",
    "    # Save the EDF file\n",
    "    with pyedflib.EdfWriter(edf_file_path, len(select_channels), file_type=pyedflib.FILETYPE_EDFPLUS) as f:\n",
    "        channel_info = [{'label': ch, 'dimension': 'uV', 'sample_rate': fs, 'physical_min': np.min(df), 'physical_max': np.max(df), 'digital_min': -32768, 'digital_max': 32767} for ch in select_channels]\n",
    "        f.setSignalHeaders(channel_info)\n",
    "        f.writeSamples(df.T)\n",
    "\n",
    "    print(f\"Saved EDF file: {edf_file_path}\")\n",
    "    return df, id, labels\n",
    "\n"
   ]
  },
  {
   "cell_type": "code",
   "execution_count": 3,
   "metadata": {},
   "outputs": [
    {
     "name": "stdout",
     "output_type": "stream",
     "text": [
      "The number of patients is: 197\n",
      "The average number of clips per patients is: 3.030456852791878\n",
      "    admission_id  number of clips\n",
      "0        EMU2202                1\n",
      "1        EMU1699                2\n",
      "2        EMU1963                3\n",
      "3        EMU2157                1\n",
      "4        EMU2163                3\n",
      "..           ...              ...\n",
      "192      EMU2219                1\n",
      "193      EMU1881                2\n",
      "194      EMU1800                1\n",
      "195      EMU1877                3\n",
      "196      EMU1807                2\n",
      "\n",
      "[197 rows x 2 columns]\n"
     ]
    }
   ],
   "source": [
    "anno = pd.read_csv('/home1/k/kuangzy/scalp_eeg/seizure_annotations_UEO_revised.csv')\n",
    "patient = list(set(anno['admission_id']))\n",
    "seizure_num = []\n",
    "for i in patient:\n",
    "    seizure_num.append(list(anno['admission_id']).count(i))\n",
    "print('The number of patients is:', len(patient))\n",
    "print('The average number of clips per patients is:', np.mean(seizure_num))\n",
    "\n",
    "patient_clip_num = {\n",
    "    'admission_id': patient,\n",
    "    'number of clips': seizure_num\n",
    "}\n",
    "patient_clip_num = pd.DataFrame(patient_clip_num)\n",
    "print(patient_clip_num)\n"
   ]
  },
  {
   "cell_type": "code",
   "execution_count": 4,
   "metadata": {},
   "outputs": [
    {
     "ename": "KeyboardInterrupt",
     "evalue": "",
     "output_type": "error",
     "traceback": [
      "\u001b[0;31m---------------------------------------------------------------------------\u001b[0m",
      "\u001b[0;31mKeyboardInterrupt\u001b[0m                         Traceback (most recent call last)",
      "Cell \u001b[0;32mIn[4], line 7\u001b[0m\n\u001b[1;32m      5\u001b[0m \u001b[38;5;28;01mwith\u001b[39;00m \u001b[38;5;28mopen\u001b[39m(\u001b[38;5;124m'\u001b[39m\u001b[38;5;124mieeglogin.bin\u001b[39m\u001b[38;5;124m'\u001b[39m, \u001b[38;5;124m\"\u001b[39m\u001b[38;5;124mr\u001b[39m\u001b[38;5;124m\"\u001b[39m) \u001b[38;5;28;01mas\u001b[39;00m f:\n\u001b[1;32m      6\u001b[0m     s \u001b[38;5;241m=\u001b[39m Session(\u001b[38;5;124m'\u001b[39m\u001b[38;5;124mjoie1\u001b[39m\u001b[38;5;124m'\u001b[39m, f\u001b[38;5;241m.\u001b[39mread())\n\u001b[0;32m----> 7\u001b[0m ds \u001b[38;5;241m=\u001b[39m \u001b[43ms\u001b[49m\u001b[38;5;241;43m.\u001b[39;49m\u001b[43mopen_dataset\u001b[49m\u001b[43m(\u001b[49m\u001b[43mfile\u001b[49m\u001b[43m)\u001b[49m\n\u001b[1;32m      8\u001b[0m all_channel_labels \u001b[38;5;241m=\u001b[39m ds\u001b[38;5;241m.\u001b[39mget_channel_labels()\n\u001b[1;32m      9\u001b[0m check \u001b[38;5;241m=\u001b[39m \u001b[38;5;28;01mTrue\u001b[39;00m\n",
      "File \u001b[0;32m~/.local/lib/python3.11/site-packages/ieeg/auth.py:86\u001b[0m, in \u001b[0;36mSession.open_dataset\u001b[0;34m(self, name)\u001b[0m\n\u001b[1;32m     82\u001b[0m get_id_response \u001b[38;5;241m=\u001b[39m \u001b[38;5;28mself\u001b[39m\u001b[38;5;241m.\u001b[39mapi\u001b[38;5;241m.\u001b[39mget_dataset_id_by_name(name)\n\u001b[1;32m     84\u001b[0m snapshot_id \u001b[38;5;241m=\u001b[39m get_id_response\u001b[38;5;241m.\u001b[39mtext\n\u001b[0;32m---> 86\u001b[0m time_series_details_response \u001b[38;5;241m=\u001b[39m \u001b[38;5;28;43mself\u001b[39;49m\u001b[38;5;241;43m.\u001b[39;49m\u001b[43mapi\u001b[49m\u001b[38;5;241;43m.\u001b[39;49m\u001b[43mget_time_series_details\u001b[49m\u001b[43m(\u001b[49m\n\u001b[1;32m     87\u001b[0m \u001b[43m    \u001b[49m\u001b[43msnapshot_id\u001b[49m\u001b[43m)\u001b[49m\n\u001b[1;32m     89\u001b[0m json_montages \u001b[38;5;241m=\u001b[39m \u001b[38;5;28mself\u001b[39m\u001b[38;5;241m.\u001b[39m_get_montages(snapshot_id)\n\u001b[1;32m     90\u001b[0m dataset \u001b[38;5;241m=\u001b[39m DS(name, ET\u001b[38;5;241m.\u001b[39mfromstring(\n\u001b[1;32m     91\u001b[0m     time_series_details_response\u001b[38;5;241m.\u001b[39mtext), snapshot_id, \u001b[38;5;28mself\u001b[39m, json_montages\u001b[38;5;241m=\u001b[39mjson_montages)\n",
      "File \u001b[0;32m~/.local/lib/python3.11/site-packages/ieeg/ieeg_api.py:98\u001b[0m, in \u001b[0;36mIeegApi.get_time_series_details\u001b[0;34m(self, dataset_id)\u001b[0m\n\u001b[1;32m     94\u001b[0m \u001b[38;5;250m\u001b[39m\u001b[38;5;124;03m\"\"\"\u001b[39;00m\n\u001b[1;32m     95\u001b[0m \u001b[38;5;124;03mReturns Response with time series details in XML format\u001b[39;00m\n\u001b[1;32m     96\u001b[0m \u001b[38;5;124;03m\"\"\"\u001b[39;00m\n\u001b[1;32m     97\u001b[0m url \u001b[38;5;241m=\u001b[39m \u001b[38;5;28mself\u001b[39m\u001b[38;5;241m.\u001b[39mbase_url \u001b[38;5;241m+\u001b[39m IeegApi\u001b[38;5;241m.\u001b[39m_get_time_series_details_path \u001b[38;5;241m+\u001b[39m dataset_id\n\u001b[0;32m---> 98\u001b[0m response \u001b[38;5;241m=\u001b[39m \u001b[38;5;28;43mself\u001b[39;49m\u001b[38;5;241;43m.\u001b[39;49m\u001b[43mhttp\u001b[49m\u001b[38;5;241;43m.\u001b[39;49m\u001b[43mget\u001b[49m\u001b[43m(\u001b[49m\u001b[43murl\u001b[49m\u001b[43m,\u001b[49m\u001b[43m \u001b[49m\u001b[43mheaders\u001b[49m\u001b[38;5;241;43m=\u001b[39;49m\u001b[43mIeegApi\u001b[49m\u001b[38;5;241;43m.\u001b[39;49m\u001b[43m_accept_xml\u001b[49m\u001b[43m)\u001b[49m\n\u001b[1;32m     99\u001b[0m \u001b[38;5;28;01mreturn\u001b[39;00m response\n",
      "File \u001b[0;32m/usr/lib/python3.11/site-packages/requests/sessions.py:602\u001b[0m, in \u001b[0;36mSession.get\u001b[0;34m(self, url, **kwargs)\u001b[0m\n\u001b[1;32m    594\u001b[0m \u001b[38;5;250m\u001b[39m\u001b[38;5;124mr\u001b[39m\u001b[38;5;124;03m\"\"\"Sends a GET request. Returns :class:`Response` object.\u001b[39;00m\n\u001b[1;32m    595\u001b[0m \n\u001b[1;32m    596\u001b[0m \u001b[38;5;124;03m:param url: URL for the new :class:`Request` object.\u001b[39;00m\n\u001b[1;32m    597\u001b[0m \u001b[38;5;124;03m:param \\*\\*kwargs: Optional arguments that ``request`` takes.\u001b[39;00m\n\u001b[1;32m    598\u001b[0m \u001b[38;5;124;03m:rtype: requests.Response\u001b[39;00m\n\u001b[1;32m    599\u001b[0m \u001b[38;5;124;03m\"\"\"\u001b[39;00m\n\u001b[1;32m    601\u001b[0m kwargs\u001b[38;5;241m.\u001b[39msetdefault(\u001b[38;5;124m\"\u001b[39m\u001b[38;5;124mallow_redirects\u001b[39m\u001b[38;5;124m\"\u001b[39m, \u001b[38;5;28;01mTrue\u001b[39;00m)\n\u001b[0;32m--> 602\u001b[0m \u001b[38;5;28;01mreturn\u001b[39;00m \u001b[38;5;28;43mself\u001b[39;49m\u001b[38;5;241;43m.\u001b[39;49m\u001b[43mrequest\u001b[49m\u001b[43m(\u001b[49m\u001b[38;5;124;43m\"\u001b[39;49m\u001b[38;5;124;43mGET\u001b[39;49m\u001b[38;5;124;43m\"\u001b[39;49m\u001b[43m,\u001b[49m\u001b[43m \u001b[49m\u001b[43murl\u001b[49m\u001b[43m,\u001b[49m\u001b[43m \u001b[49m\u001b[38;5;241;43m*\u001b[39;49m\u001b[38;5;241;43m*\u001b[39;49m\u001b[43mkwargs\u001b[49m\u001b[43m)\u001b[49m\n",
      "File \u001b[0;32m/usr/lib/python3.11/site-packages/requests/sessions.py:589\u001b[0m, in \u001b[0;36mSession.request\u001b[0;34m(self, method, url, params, data, headers, cookies, files, auth, timeout, allow_redirects, proxies, hooks, stream, verify, cert, json)\u001b[0m\n\u001b[1;32m    584\u001b[0m send_kwargs \u001b[38;5;241m=\u001b[39m {\n\u001b[1;32m    585\u001b[0m     \u001b[38;5;124m\"\u001b[39m\u001b[38;5;124mtimeout\u001b[39m\u001b[38;5;124m\"\u001b[39m: timeout,\n\u001b[1;32m    586\u001b[0m     \u001b[38;5;124m\"\u001b[39m\u001b[38;5;124mallow_redirects\u001b[39m\u001b[38;5;124m\"\u001b[39m: allow_redirects,\n\u001b[1;32m    587\u001b[0m }\n\u001b[1;32m    588\u001b[0m send_kwargs\u001b[38;5;241m.\u001b[39mupdate(settings)\n\u001b[0;32m--> 589\u001b[0m resp \u001b[38;5;241m=\u001b[39m \u001b[38;5;28;43mself\u001b[39;49m\u001b[38;5;241;43m.\u001b[39;49m\u001b[43msend\u001b[49m\u001b[43m(\u001b[49m\u001b[43mprep\u001b[49m\u001b[43m,\u001b[49m\u001b[43m \u001b[49m\u001b[38;5;241;43m*\u001b[39;49m\u001b[38;5;241;43m*\u001b[39;49m\u001b[43msend_kwargs\u001b[49m\u001b[43m)\u001b[49m\n\u001b[1;32m    591\u001b[0m \u001b[38;5;28;01mreturn\u001b[39;00m resp\n",
      "File \u001b[0;32m/usr/lib/python3.11/site-packages/requests/sessions.py:703\u001b[0m, in \u001b[0;36mSession.send\u001b[0;34m(self, request, **kwargs)\u001b[0m\n\u001b[1;32m    700\u001b[0m start \u001b[38;5;241m=\u001b[39m preferred_clock()\n\u001b[1;32m    702\u001b[0m \u001b[38;5;66;03m# Send the request\u001b[39;00m\n\u001b[0;32m--> 703\u001b[0m r \u001b[38;5;241m=\u001b[39m \u001b[43madapter\u001b[49m\u001b[38;5;241;43m.\u001b[39;49m\u001b[43msend\u001b[49m\u001b[43m(\u001b[49m\u001b[43mrequest\u001b[49m\u001b[43m,\u001b[49m\u001b[43m \u001b[49m\u001b[38;5;241;43m*\u001b[39;49m\u001b[38;5;241;43m*\u001b[39;49m\u001b[43mkwargs\u001b[49m\u001b[43m)\u001b[49m\n\u001b[1;32m    705\u001b[0m \u001b[38;5;66;03m# Total elapsed time of the request (approximately)\u001b[39;00m\n\u001b[1;32m    706\u001b[0m elapsed \u001b[38;5;241m=\u001b[39m preferred_clock() \u001b[38;5;241m-\u001b[39m start\n",
      "File \u001b[0;32m/usr/lib/python3.11/site-packages/requests/adapters.py:542\u001b[0m, in \u001b[0;36mHTTPAdapter.send\u001b[0;34m(self, request, stream, timeout, verify, cert, proxies)\u001b[0m\n\u001b[1;32m    539\u001b[0m     timeout \u001b[38;5;241m=\u001b[39m TimeoutSauce(connect\u001b[38;5;241m=\u001b[39mtimeout, read\u001b[38;5;241m=\u001b[39mtimeout)\n\u001b[1;32m    541\u001b[0m \u001b[38;5;28;01mtry\u001b[39;00m:\n\u001b[0;32m--> 542\u001b[0m     resp \u001b[38;5;241m=\u001b[39m \u001b[43mconn\u001b[49m\u001b[38;5;241;43m.\u001b[39;49m\u001b[43murlopen\u001b[49m\u001b[43m(\u001b[49m\n\u001b[1;32m    543\u001b[0m \u001b[43m        \u001b[49m\u001b[43mmethod\u001b[49m\u001b[38;5;241;43m=\u001b[39;49m\u001b[43mrequest\u001b[49m\u001b[38;5;241;43m.\u001b[39;49m\u001b[43mmethod\u001b[49m\u001b[43m,\u001b[49m\n\u001b[1;32m    544\u001b[0m \u001b[43m        \u001b[49m\u001b[43murl\u001b[49m\u001b[38;5;241;43m=\u001b[39;49m\u001b[43murl\u001b[49m\u001b[43m,\u001b[49m\n\u001b[1;32m    545\u001b[0m \u001b[43m        \u001b[49m\u001b[43mbody\u001b[49m\u001b[38;5;241;43m=\u001b[39;49m\u001b[43mrequest\u001b[49m\u001b[38;5;241;43m.\u001b[39;49m\u001b[43mbody\u001b[49m\u001b[43m,\u001b[49m\n\u001b[1;32m    546\u001b[0m \u001b[43m        \u001b[49m\u001b[43mheaders\u001b[49m\u001b[38;5;241;43m=\u001b[39;49m\u001b[43mrequest\u001b[49m\u001b[38;5;241;43m.\u001b[39;49m\u001b[43mheaders\u001b[49m\u001b[43m,\u001b[49m\n\u001b[1;32m    547\u001b[0m \u001b[43m        \u001b[49m\u001b[43mredirect\u001b[49m\u001b[38;5;241;43m=\u001b[39;49m\u001b[38;5;28;43;01mFalse\u001b[39;49;00m\u001b[43m,\u001b[49m\n\u001b[1;32m    548\u001b[0m \u001b[43m        \u001b[49m\u001b[43massert_same_host\u001b[49m\u001b[38;5;241;43m=\u001b[39;49m\u001b[38;5;28;43;01mFalse\u001b[39;49;00m\u001b[43m,\u001b[49m\n\u001b[1;32m    549\u001b[0m \u001b[43m        \u001b[49m\u001b[43mpreload_content\u001b[49m\u001b[38;5;241;43m=\u001b[39;49m\u001b[38;5;28;43;01mFalse\u001b[39;49;00m\u001b[43m,\u001b[49m\n\u001b[1;32m    550\u001b[0m \u001b[43m        \u001b[49m\u001b[43mdecode_content\u001b[49m\u001b[38;5;241;43m=\u001b[39;49m\u001b[38;5;28;43;01mFalse\u001b[39;49;00m\u001b[43m,\u001b[49m\n\u001b[1;32m    551\u001b[0m \u001b[43m        \u001b[49m\u001b[43mretries\u001b[49m\u001b[38;5;241;43m=\u001b[39;49m\u001b[38;5;28;43mself\u001b[39;49m\u001b[38;5;241;43m.\u001b[39;49m\u001b[43mmax_retries\u001b[49m\u001b[43m,\u001b[49m\n\u001b[1;32m    552\u001b[0m \u001b[43m        \u001b[49m\u001b[43mtimeout\u001b[49m\u001b[38;5;241;43m=\u001b[39;49m\u001b[43mtimeout\u001b[49m\u001b[43m,\u001b[49m\n\u001b[1;32m    553\u001b[0m \u001b[43m        \u001b[49m\u001b[43mchunked\u001b[49m\u001b[38;5;241;43m=\u001b[39;49m\u001b[43mchunked\u001b[49m\u001b[43m,\u001b[49m\n\u001b[1;32m    554\u001b[0m \u001b[43m    \u001b[49m\u001b[43m)\u001b[49m\n\u001b[1;32m    556\u001b[0m \u001b[38;5;28;01mexcept\u001b[39;00m (ProtocolError, \u001b[38;5;167;01mOSError\u001b[39;00m) \u001b[38;5;28;01mas\u001b[39;00m err:\n\u001b[1;32m    557\u001b[0m     \u001b[38;5;28;01mraise\u001b[39;00m \u001b[38;5;167;01mConnectionError\u001b[39;00m(err, request\u001b[38;5;241m=\u001b[39mrequest)\n",
      "File \u001b[0;32m/usr/lib/python3.11/site-packages/urllib3/connectionpool.py:791\u001b[0m, in \u001b[0;36mHTTPConnectionPool.urlopen\u001b[0;34m(self, method, url, body, headers, retries, redirect, assert_same_host, timeout, pool_timeout, release_conn, chunked, body_pos, preload_content, decode_content, **response_kw)\u001b[0m\n\u001b[1;32m    788\u001b[0m response_conn \u001b[38;5;241m=\u001b[39m conn \u001b[38;5;28;01mif\u001b[39;00m \u001b[38;5;129;01mnot\u001b[39;00m release_conn \u001b[38;5;28;01melse\u001b[39;00m \u001b[38;5;28;01mNone\u001b[39;00m\n\u001b[1;32m    790\u001b[0m \u001b[38;5;66;03m# Make the request on the HTTPConnection object\u001b[39;00m\n\u001b[0;32m--> 791\u001b[0m response \u001b[38;5;241m=\u001b[39m \u001b[38;5;28;43mself\u001b[39;49m\u001b[38;5;241;43m.\u001b[39;49m\u001b[43m_make_request\u001b[49m\u001b[43m(\u001b[49m\n\u001b[1;32m    792\u001b[0m \u001b[43m    \u001b[49m\u001b[43mconn\u001b[49m\u001b[43m,\u001b[49m\n\u001b[1;32m    793\u001b[0m \u001b[43m    \u001b[49m\u001b[43mmethod\u001b[49m\u001b[43m,\u001b[49m\n\u001b[1;32m    794\u001b[0m \u001b[43m    \u001b[49m\u001b[43murl\u001b[49m\u001b[43m,\u001b[49m\n\u001b[1;32m    795\u001b[0m \u001b[43m    \u001b[49m\u001b[43mtimeout\u001b[49m\u001b[38;5;241;43m=\u001b[39;49m\u001b[43mtimeout_obj\u001b[49m\u001b[43m,\u001b[49m\n\u001b[1;32m    796\u001b[0m \u001b[43m    \u001b[49m\u001b[43mbody\u001b[49m\u001b[38;5;241;43m=\u001b[39;49m\u001b[43mbody\u001b[49m\u001b[43m,\u001b[49m\n\u001b[1;32m    797\u001b[0m \u001b[43m    \u001b[49m\u001b[43mheaders\u001b[49m\u001b[38;5;241;43m=\u001b[39;49m\u001b[43mheaders\u001b[49m\u001b[43m,\u001b[49m\n\u001b[1;32m    798\u001b[0m \u001b[43m    \u001b[49m\u001b[43mchunked\u001b[49m\u001b[38;5;241;43m=\u001b[39;49m\u001b[43mchunked\u001b[49m\u001b[43m,\u001b[49m\n\u001b[1;32m    799\u001b[0m \u001b[43m    \u001b[49m\u001b[43mretries\u001b[49m\u001b[38;5;241;43m=\u001b[39;49m\u001b[43mretries\u001b[49m\u001b[43m,\u001b[49m\n\u001b[1;32m    800\u001b[0m \u001b[43m    \u001b[49m\u001b[43mresponse_conn\u001b[49m\u001b[38;5;241;43m=\u001b[39;49m\u001b[43mresponse_conn\u001b[49m\u001b[43m,\u001b[49m\n\u001b[1;32m    801\u001b[0m \u001b[43m    \u001b[49m\u001b[43mpreload_content\u001b[49m\u001b[38;5;241;43m=\u001b[39;49m\u001b[43mpreload_content\u001b[49m\u001b[43m,\u001b[49m\n\u001b[1;32m    802\u001b[0m \u001b[43m    \u001b[49m\u001b[43mdecode_content\u001b[49m\u001b[38;5;241;43m=\u001b[39;49m\u001b[43mdecode_content\u001b[49m\u001b[43m,\u001b[49m\n\u001b[1;32m    803\u001b[0m \u001b[43m    \u001b[49m\u001b[38;5;241;43m*\u001b[39;49m\u001b[38;5;241;43m*\u001b[39;49m\u001b[43mresponse_kw\u001b[49m\u001b[43m,\u001b[49m\n\u001b[1;32m    804\u001b[0m \u001b[43m\u001b[49m\u001b[43m)\u001b[49m\n\u001b[1;32m    806\u001b[0m \u001b[38;5;66;03m# Everything went great!\u001b[39;00m\n\u001b[1;32m    807\u001b[0m clean_exit \u001b[38;5;241m=\u001b[39m \u001b[38;5;28;01mTrue\u001b[39;00m\n",
      "File \u001b[0;32m/usr/lib/python3.11/site-packages/urllib3/connectionpool.py:537\u001b[0m, in \u001b[0;36mHTTPConnectionPool._make_request\u001b[0;34m(self, conn, method, url, body, headers, retries, timeout, chunked, response_conn, preload_content, decode_content, enforce_content_length)\u001b[0m\n\u001b[1;32m    535\u001b[0m \u001b[38;5;66;03m# Receive the response from the server\u001b[39;00m\n\u001b[1;32m    536\u001b[0m \u001b[38;5;28;01mtry\u001b[39;00m:\n\u001b[0;32m--> 537\u001b[0m     response \u001b[38;5;241m=\u001b[39m \u001b[43mconn\u001b[49m\u001b[38;5;241;43m.\u001b[39;49m\u001b[43mgetresponse\u001b[49m\u001b[43m(\u001b[49m\u001b[43m)\u001b[49m\n\u001b[1;32m    538\u001b[0m \u001b[38;5;28;01mexcept\u001b[39;00m (BaseSSLError, \u001b[38;5;167;01mOSError\u001b[39;00m) \u001b[38;5;28;01mas\u001b[39;00m e:\n\u001b[1;32m    539\u001b[0m     \u001b[38;5;28mself\u001b[39m\u001b[38;5;241m.\u001b[39m_raise_timeout(err\u001b[38;5;241m=\u001b[39me, url\u001b[38;5;241m=\u001b[39murl, timeout_value\u001b[38;5;241m=\u001b[39mread_timeout)\n",
      "File \u001b[0;32m/usr/lib/python3.11/site-packages/urllib3/connection.py:461\u001b[0m, in \u001b[0;36mHTTPConnection.getresponse\u001b[0;34m(self)\u001b[0m\n\u001b[1;32m    458\u001b[0m \u001b[38;5;28;01mfrom\u001b[39;00m \u001b[38;5;21;01m.\u001b[39;00m\u001b[38;5;21;01mresponse\u001b[39;00m \u001b[38;5;28;01mimport\u001b[39;00m HTTPResponse\n\u001b[1;32m    460\u001b[0m \u001b[38;5;66;03m# Get the response from http.client.HTTPConnection\u001b[39;00m\n\u001b[0;32m--> 461\u001b[0m httplib_response \u001b[38;5;241m=\u001b[39m \u001b[38;5;28;43msuper\u001b[39;49m\u001b[43m(\u001b[49m\u001b[43m)\u001b[49m\u001b[38;5;241;43m.\u001b[39;49m\u001b[43mgetresponse\u001b[49m\u001b[43m(\u001b[49m\u001b[43m)\u001b[49m\n\u001b[1;32m    463\u001b[0m \u001b[38;5;28;01mtry\u001b[39;00m:\n\u001b[1;32m    464\u001b[0m     assert_header_parsing(httplib_response\u001b[38;5;241m.\u001b[39mmsg)\n",
      "File \u001b[0;32m/usr/lib64/python3.11/http/client.py:1395\u001b[0m, in \u001b[0;36mHTTPConnection.getresponse\u001b[0;34m(self)\u001b[0m\n\u001b[1;32m   1393\u001b[0m \u001b[38;5;28;01mtry\u001b[39;00m:\n\u001b[1;32m   1394\u001b[0m     \u001b[38;5;28;01mtry\u001b[39;00m:\n\u001b[0;32m-> 1395\u001b[0m         \u001b[43mresponse\u001b[49m\u001b[38;5;241;43m.\u001b[39;49m\u001b[43mbegin\u001b[49m\u001b[43m(\u001b[49m\u001b[43m)\u001b[49m\n\u001b[1;32m   1396\u001b[0m     \u001b[38;5;28;01mexcept\u001b[39;00m \u001b[38;5;167;01mConnectionError\u001b[39;00m:\n\u001b[1;32m   1397\u001b[0m         \u001b[38;5;28mself\u001b[39m\u001b[38;5;241m.\u001b[39mclose()\n",
      "File \u001b[0;32m/usr/lib64/python3.11/http/client.py:325\u001b[0m, in \u001b[0;36mHTTPResponse.begin\u001b[0;34m(self)\u001b[0m\n\u001b[1;32m    323\u001b[0m \u001b[38;5;66;03m# read until we get a non-100 response\u001b[39;00m\n\u001b[1;32m    324\u001b[0m \u001b[38;5;28;01mwhile\u001b[39;00m \u001b[38;5;28;01mTrue\u001b[39;00m:\n\u001b[0;32m--> 325\u001b[0m     version, status, reason \u001b[38;5;241m=\u001b[39m \u001b[38;5;28;43mself\u001b[39;49m\u001b[38;5;241;43m.\u001b[39;49m\u001b[43m_read_status\u001b[49m\u001b[43m(\u001b[49m\u001b[43m)\u001b[49m\n\u001b[1;32m    326\u001b[0m     \u001b[38;5;28;01mif\u001b[39;00m status \u001b[38;5;241m!=\u001b[39m CONTINUE:\n\u001b[1;32m    327\u001b[0m         \u001b[38;5;28;01mbreak\u001b[39;00m\n",
      "File \u001b[0;32m/usr/lib64/python3.11/http/client.py:286\u001b[0m, in \u001b[0;36mHTTPResponse._read_status\u001b[0;34m(self)\u001b[0m\n\u001b[1;32m    285\u001b[0m \u001b[38;5;28;01mdef\u001b[39;00m \u001b[38;5;21m_read_status\u001b[39m(\u001b[38;5;28mself\u001b[39m):\n\u001b[0;32m--> 286\u001b[0m     line \u001b[38;5;241m=\u001b[39m \u001b[38;5;28mstr\u001b[39m(\u001b[38;5;28;43mself\u001b[39;49m\u001b[38;5;241;43m.\u001b[39;49m\u001b[43mfp\u001b[49m\u001b[38;5;241;43m.\u001b[39;49m\u001b[43mreadline\u001b[49m\u001b[43m(\u001b[49m\u001b[43m_MAXLINE\u001b[49m\u001b[43m \u001b[49m\u001b[38;5;241;43m+\u001b[39;49m\u001b[43m \u001b[49m\u001b[38;5;241;43m1\u001b[39;49m\u001b[43m)\u001b[49m, \u001b[38;5;124m\"\u001b[39m\u001b[38;5;124miso-8859-1\u001b[39m\u001b[38;5;124m\"\u001b[39m)\n\u001b[1;32m    287\u001b[0m     \u001b[38;5;28;01mif\u001b[39;00m \u001b[38;5;28mlen\u001b[39m(line) \u001b[38;5;241m>\u001b[39m _MAXLINE:\n\u001b[1;32m    288\u001b[0m         \u001b[38;5;28;01mraise\u001b[39;00m LineTooLong(\u001b[38;5;124m\"\u001b[39m\u001b[38;5;124mstatus line\u001b[39m\u001b[38;5;124m\"\u001b[39m)\n",
      "File \u001b[0;32m/usr/lib64/python3.11/socket.py:718\u001b[0m, in \u001b[0;36mSocketIO.readinto\u001b[0;34m(self, b)\u001b[0m\n\u001b[1;32m    716\u001b[0m \u001b[38;5;28;01mwhile\u001b[39;00m \u001b[38;5;28;01mTrue\u001b[39;00m:\n\u001b[1;32m    717\u001b[0m     \u001b[38;5;28;01mtry\u001b[39;00m:\n\u001b[0;32m--> 718\u001b[0m         \u001b[38;5;28;01mreturn\u001b[39;00m \u001b[38;5;28;43mself\u001b[39;49m\u001b[38;5;241;43m.\u001b[39;49m\u001b[43m_sock\u001b[49m\u001b[38;5;241;43m.\u001b[39;49m\u001b[43mrecv_into\u001b[49m\u001b[43m(\u001b[49m\u001b[43mb\u001b[49m\u001b[43m)\u001b[49m\n\u001b[1;32m    719\u001b[0m     \u001b[38;5;28;01mexcept\u001b[39;00m timeout:\n\u001b[1;32m    720\u001b[0m         \u001b[38;5;28mself\u001b[39m\u001b[38;5;241m.\u001b[39m_timeout_occurred \u001b[38;5;241m=\u001b[39m \u001b[38;5;28;01mTrue\u001b[39;00m\n",
      "File \u001b[0;32m/usr/lib64/python3.11/ssl.py:1314\u001b[0m, in \u001b[0;36mSSLSocket.recv_into\u001b[0;34m(self, buffer, nbytes, flags)\u001b[0m\n\u001b[1;32m   1310\u001b[0m     \u001b[38;5;28;01mif\u001b[39;00m flags \u001b[38;5;241m!=\u001b[39m \u001b[38;5;241m0\u001b[39m:\n\u001b[1;32m   1311\u001b[0m         \u001b[38;5;28;01mraise\u001b[39;00m \u001b[38;5;167;01mValueError\u001b[39;00m(\n\u001b[1;32m   1312\u001b[0m           \u001b[38;5;124m\"\u001b[39m\u001b[38;5;124mnon-zero flags not allowed in calls to recv_into() on \u001b[39m\u001b[38;5;132;01m%s\u001b[39;00m\u001b[38;5;124m\"\u001b[39m \u001b[38;5;241m%\u001b[39m\n\u001b[1;32m   1313\u001b[0m           \u001b[38;5;28mself\u001b[39m\u001b[38;5;241m.\u001b[39m\u001b[38;5;18m__class__\u001b[39m)\n\u001b[0;32m-> 1314\u001b[0m     \u001b[38;5;28;01mreturn\u001b[39;00m \u001b[38;5;28;43mself\u001b[39;49m\u001b[38;5;241;43m.\u001b[39;49m\u001b[43mread\u001b[49m\u001b[43m(\u001b[49m\u001b[43mnbytes\u001b[49m\u001b[43m,\u001b[49m\u001b[43m \u001b[49m\u001b[43mbuffer\u001b[49m\u001b[43m)\u001b[49m\n\u001b[1;32m   1315\u001b[0m \u001b[38;5;28;01melse\u001b[39;00m:\n\u001b[1;32m   1316\u001b[0m     \u001b[38;5;28;01mreturn\u001b[39;00m \u001b[38;5;28msuper\u001b[39m()\u001b[38;5;241m.\u001b[39mrecv_into(buffer, nbytes, flags)\n",
      "File \u001b[0;32m/usr/lib64/python3.11/ssl.py:1166\u001b[0m, in \u001b[0;36mSSLSocket.read\u001b[0;34m(self, len, buffer)\u001b[0m\n\u001b[1;32m   1164\u001b[0m \u001b[38;5;28;01mtry\u001b[39;00m:\n\u001b[1;32m   1165\u001b[0m     \u001b[38;5;28;01mif\u001b[39;00m buffer \u001b[38;5;129;01mis\u001b[39;00m \u001b[38;5;129;01mnot\u001b[39;00m \u001b[38;5;28;01mNone\u001b[39;00m:\n\u001b[0;32m-> 1166\u001b[0m         \u001b[38;5;28;01mreturn\u001b[39;00m \u001b[38;5;28;43mself\u001b[39;49m\u001b[38;5;241;43m.\u001b[39;49m\u001b[43m_sslobj\u001b[49m\u001b[38;5;241;43m.\u001b[39;49m\u001b[43mread\u001b[49m\u001b[43m(\u001b[49m\u001b[38;5;28;43mlen\u001b[39;49m\u001b[43m,\u001b[49m\u001b[43m \u001b[49m\u001b[43mbuffer\u001b[49m\u001b[43m)\u001b[49m\n\u001b[1;32m   1167\u001b[0m     \u001b[38;5;28;01melse\u001b[39;00m:\n\u001b[1;32m   1168\u001b[0m         \u001b[38;5;28;01mreturn\u001b[39;00m \u001b[38;5;28mself\u001b[39m\u001b[38;5;241m.\u001b[39m_sslobj\u001b[38;5;241m.\u001b[39mread(\u001b[38;5;28mlen\u001b[39m)\n",
      "\u001b[0;31mKeyboardInterrupt\u001b[0m: "
     ]
    }
   ],
   "source": [
    "select_channels = ['C3', 'C4', 'Cz', 'F3', 'F4', 'F7', 'F8', 'Fp1', 'Fp2',\n",
    "                    'Fz', 'O1', 'O2', 'P3', 'P4', 'T3', 'T4', 'T5', 'T6']\n",
    "flag = []\n",
    "for file in anno['ieeg_file_name']:\n",
    "    with open('ieeglogin.bin', \"r\") as f:\n",
    "        s = Session('joie1', f.read())\n",
    "    ds = s.open_dataset(file)\n",
    "    all_channel_labels = ds.get_channel_labels()\n",
    "    check = True\n",
    "    for i in select_channels:\n",
    "        if i not in all_channel_labels:\n",
    "            check = False\n",
    "    flag.append(check)"
   ]
  },
  {
   "cell_type": "markdown",
   "metadata": {},
   "source": [
    "### transform tests"
   ]
  },
  {
   "cell_type": "markdown",
   "metadata": {},
   "source": [
    "replicate raw data into 3 channels"
   ]
  },
  {
   "cell_type": "code",
   "execution_count": 10,
   "metadata": {},
   "outputs": [
    {
     "data": {
      "text/plain": [
       "'a = a.to_numpy().T\\n\\na_expanded = np.repeat(a[np.newaxis, :, :], 3, axis=0)\\n\\n# Step 2: Convert the expanded data into a PyTorch tensor\\na_tensor = torch.tensor(a_expanded, dtype=torch.float32)\\n#a_tensor = a_tensor.permute(1,2,0)\\nprint(a_tensor.shape) #(channel, time, 3)'"
      ]
     },
     "execution_count": 10,
     "metadata": {},
     "output_type": "execute_result"
    }
   ],
   "source": [
    "import torch\n",
    "a = get_iEEG_data(username = 'joie1',\n",
    "                password_bin_file = 'ieeglogin.bin',\n",
    "                iEEG_filename = 'EMU1061_Event_Day05_1',\n",
    "                start_time_usec = 52551*1e6,\n",
    "                stop_time_usec = 52553*1e6,\n",
    "                select_electrodes = None)\n",
    "\n",
    "\"\"\"a = a.to_numpy().T\n",
    "\n",
    "a_expanded = np.repeat(a[np.newaxis, :, :], 3, axis=0)\n",
    "\n",
    "# Step 2: Convert the expanded data into a PyTorch tensor\n",
    "a_tensor = torch.tensor(a_expanded, dtype=torch.float32)\n",
    "#a_tensor = a_tensor.permute(1,2,0)\n",
    "print(a_tensor.shape) #(channel, time, 3)\"\"\""
   ]
  },
  {
   "cell_type": "code",
   "execution_count": null,
   "metadata": {},
   "outputs": [],
   "source": [
    "labels = [0]*int((seizure_on-clip_start)/1e6*fs)+[1]*int((seizure_off-seizure_on)/1e6*fs)+[0]*int((clip_end-seizure_off)/1e6*fs)\n",
    "if len(labels)<df.shape[0]:\n",
    "    labels = labels+[0]*(df.shape[0]-len(labels))"
   ]
  },
  {
   "cell_type": "code",
   "execution_count": 9,
   "metadata": {},
   "outputs": [
    {
     "data": {
      "text/plain": [
       "[0, 0, 0, 1, 1]"
      ]
     },
     "execution_count": 9,
     "metadata": {},
     "output_type": "execute_result"
    }
   ],
   "source": [
    "a = [0,0,0]+[1]*2\n",
    "a"
   ]
  },
  {
   "cell_type": "markdown",
   "metadata": {},
   "source": [
    "### Replace empty clip_end time with the end of the recording"
   ]
  },
  {
   "cell_type": "code",
   "execution_count": 62,
   "metadata": {},
   "outputs": [
    {
     "name": "stdout",
     "output_type": "stream",
     "text": [
      "Modified rows have been written to 'modified_seizure_annotations.csv'.\n"
     ]
    }
   ],
   "source": [
    "import csv\n",
    "\n",
    "# Step 1: Read the CSV file\n",
    "with open('seizure_annotations_UEO_Sep1224.csv', mode='r', newline='') as file:\n",
    "    reader = csv.reader(file)\n",
    "    rows = list(reader)  # Convert reader object to list\n",
    "\n",
    "for row in rows:\n",
    "    if row[3]:\n",
    "        continue\n",
    "    else:\n",
    "        file_name = row[0]\n",
    "        with open('/home1/k/kuangzy/scalp_eeg/ieeglogin.bin', \"r\") as f:\n",
    "            s = Session('joie1', f.read())\n",
    "        ds = s.open_dataset(file_name)\n",
    "        all_channel_labels = ds.get_channel_labels()\n",
    "        row[3] = int(ds.get_time_series_details(all_channel_labels[0]).duration)/1e6\n",
    "\n",
    "with open('/home1/k/kuangzy/scalp_eeg/seizure_annotations_UEO_revised.csv', mode='w', newline='') as new_file:\n",
    "    writer = csv.writer(new_file)\n",
    "    \n",
    "    # Write all modified rows to the new CSV\n",
    "    writer.writerows(rows)\n",
    "\n",
    "print(\"Modified rows have been written to 'modified_seizure_annotations.csv'.\")\n"
   ]
  },
  {
   "cell_type": "code",
   "execution_count": 11,
   "metadata": {},
   "outputs": [],
   "source": [
    "import pyedflib\n",
    "import numpy as np\n",
    "import torch\n",
    "from torch.nn.utils.rnn import pad_sequence\n",
    "x = []\n",
    "edf_reader = pyedflib.EdfReader('/mnt/sauce/littlab/users/kuangzy/scalp_eeg/edf_files_seizure_end/EMU2085_2.edf')\n",
    "for chn in range(18):\n",
    "    x.append(edf_reader.readSignal(chn))\n",
    "x = np.array(x) # shape of (channel, time)\n",
    "x = torch.from_numpy(x).float()\n",
    "edf_reader.close()"
   ]
  },
  {
   "cell_type": "code",
   "execution_count": 15,
   "metadata": {},
   "outputs": [
    {
     "name": "stdout",
     "output_type": "stream",
     "text": [
      "torch.Size([18, 115200])\n",
      "(18, 115200)\n"
     ]
    }
   ],
   "source": [
    "from scipy.signal import butter, filtfilt\n",
    "def bandpass(x, lowcut,highcut,fs):\n",
    "    b, a = butter(4, [lowcut / (0.5 * fs), highcut / (0.5 * fs)], btype='band')\n",
    "    return filtfilt(b, a, x)\n",
    "y = bandpass(x,3,15,256)\n",
    "print(x.shape)\n",
    "print(y.shape)"
   ]
  },
  {
   "cell_type": "code",
   "execution_count": 3,
   "metadata": {},
   "outputs": [
    {
     "data": {
      "text/plain": [
       "tensor([1, 1, 1, 1, 1, 1, 1, 1, 1, 1, 1, 1, 1, 1, 1, 1, 1, 1, 1, 1, 1, 1, 1, 1,\n",
       "        1, 1, 1, 1, 1, 1, 1, 1])"
      ]
     },
     "execution_count": 3,
     "metadata": {},
     "output_type": "execute_result"
    }
   ],
   "source": [
    "import torch\n",
    "a = torch.tensor([1, 1, 1, 1, 1, 1, 1, 1, 1, 1, 1, 1, 1, 1, 1, 1, 1, 1, 1, 1, 1, 1, 1, 1,1, 1, 1, 1, 1, 1, 1, 1])\n",
    "torch.round(a)"
   ]
  },
  {
   "cell_type": "code",
   "execution_count": 45,
   "metadata": {},
   "outputs": [
    {
     "name": "stdout",
     "output_type": "stream",
     "text": [
      "prepare data...\n"
     ]
    }
   ],
   "source": [
    "import os\n",
    "folder_path = \"/mnt/sauce/littlab/users/kuangzy/scalp_eeg/edf_files_seizure_end\"\n",
    "edf_files = []\n",
    "print('prepare data...')\n",
    "for root, dirs, files in os.walk(folder_path):\n",
    "    for f in files:\n",
    "        edf_files.append(os.path.join(root, f))\n"
   ]
  },
  {
   "cell_type": "code",
   "execution_count": 31,
   "metadata": {},
   "outputs": [],
   "source": [
    "edf_reader.close()"
   ]
  },
  {
   "cell_type": "code",
   "execution_count": 42,
   "metadata": {},
   "outputs": [
    {
     "name": "stdout",
     "output_type": "stream",
     "text": [
      "988960\n",
      "torch.Size([18, 20736])\n"
     ]
    }
   ],
   "source": [
    "import pickle\n",
    "id = 'EMU2255_3'\n",
    "with open('/mnt/sauce/littlab/users/kuangzy/scalp_eeg/eeg_label_seizure_end.pkl', 'rb') as file: \n",
    "    labels = pickle.load(file) \n",
    "label = labels.loc[labels['id']==id]['labels'].item()\n",
    "x = []\n",
    "edf_reader = pyedflib.EdfReader('/mnt/sauce/littlab/users/kuangzy/scalp_eeg/edf_files_seizure_end/'+id+'.edf')\n",
    "for chn in range(18):\n",
    "    x.append(edf_reader.readSignal(chn))\n",
    "x = np.array(x) # shape of (channel, time)\n",
    "x = torch.from_numpy(x).float()\n",
    "edf_reader.close()\n",
    "print(len(label))\n",
    "print(x.shape)"
   ]
  },
  {
   "cell_type": "markdown",
   "metadata": {},
   "source": [
    "warning: EMU2255_Event_Day02_1 has wrong labeling!!\n",
    "warning: EMU1816_Event_Day02_1 has wrong labeling!!\n",
    "warning: EMU2100_Event_Day04_1 has wrong labeling!!"
   ]
  },
  {
   "cell_type": "code",
   "execution_count": null,
   "metadata": {},
   "outputs": [],
   "source": [
    "x =[]\n",
    "for chn in range(18):\n",
    "    x.append(edf_reader.readSignal(chn))\n",
    "x = np.array(x) # shape of (channel, time)\n",
    "x = torch.from_numpy(x).float()"
   ]
  },
  {
   "cell_type": "code",
   "execution_count": 9,
   "metadata": {},
   "outputs": [],
   "source": [
    "labels = pd.read_pickle('eeg_label.pkl')\n",
    "def seq_len(p):\n",
    "    return len(p)\n",
    "labels = pd.read_pickle('eeg_label.pkl')\n",
    "labels = labels['labels'][:8].to_list()\n",
    "max_len = len(max(labels,key = seq_len))"
   ]
  },
  {
   "cell_type": "code",
   "execution_count": 10,
   "metadata": {},
   "outputs": [],
   "source": [
    "pad_labels = []\n",
    "for i in labels:\n",
    "    pad_labels.append(i+[0]*(max_len-len(i)))\n",
    "pad_labels = np.array(pad_labels)\n",
    "pad_labels = torch.tensor(pad_labels)\n",
    "pad_labels = pad_labels.type(torch.FloatTensor)\n",
    "pad_labels = pad_labels.permute(1,0)"
   ]
  },
  {
   "cell_type": "code",
   "execution_count": 11,
   "metadata": {},
   "outputs": [],
   "source": [
    "temp_labels = pad_labels[10000:20000]\n",
    "temp_labels = temp_labels.permute(1,0)\n",
    "targets = [1 if i.mean()>0.2 else 0 for i in temp_labels]\n",
    "targets = torch.tensor(targets).type(torch.LongTensor)"
   ]
  },
  {
   "cell_type": "code",
   "execution_count": 17,
   "metadata": {},
   "outputs": [
    {
     "data": {
      "text/plain": [
       "torch.Size([8, 1])"
      ]
     },
     "execution_count": 17,
     "metadata": {},
     "output_type": "execute_result"
    }
   ],
   "source": [
    "targets.unsqueeze(1).size()"
   ]
  },
  {
   "cell_type": "code",
   "execution_count": 9,
   "metadata": {},
   "outputs": [],
   "source": [
    "data_path = '/home1/k/kuangzy/scalp_eeg/edf_files/*'\n",
    "edf_files = glob.glob(data_path)\n",
    "# split train and validation\n",
    "p_train = 0.8\n",
    "train_edf = random.sample(edf_files,int(p_train*len(edf_files)))\n",
    "val_edf = [f for f in edf_files if f not in train_edf]"
   ]
  },
  {
   "cell_type": "code",
   "execution_count": 11,
   "metadata": {},
   "outputs": [
    {
     "data": {
      "text/plain": [
       "120"
      ]
     },
     "execution_count": 11,
     "metadata": {},
     "output_type": "execute_result"
    }
   ],
   "source": [
    "len(val_edf)"
   ]
  },
  {
   "cell_type": "code",
   "execution_count": 8,
   "metadata": {},
   "outputs": [
    {
     "data": {
      "text/plain": [
       "[1.5, 2.0, 2.5, 3.0]"
      ]
     },
     "execution_count": 8,
     "metadata": {},
     "output_type": "execute_result"
    }
   ],
   "source": [
    "import torch\n",
    "tensor = torch.tensor([[0,0,0,1,1,1,1,0,0,0]])\n",
    "positions = torch.nonzero(tensor == 1, as_tuple=False)\n",
    "a = positions[:,1].tolist()\n",
    "a = [i/2 for i in a]\n",
    "a"
   ]
  },
  {
   "cell_type": "code",
   "execution_count": 1,
   "metadata": {},
   "outputs": [],
   "source": [
    "import pandas as pd\n",
    "files = pd.read_csv('seizure_annotations_UEO_revised.csv')"
   ]
  },
  {
   "cell_type": "code",
   "execution_count": null,
   "metadata": {},
   "outputs": [],
   "source": [
    "ictal_total = 0\n",
    "non_ictal_total = 0\n",
    "for i, row in files.iterrows():\n",
    "    clip_start, clip_end = row['clip_start'], row['clip_end']\n",
    "    seizure_on = row['onset_time']\n",
    "    if row['offset_time_1'] > seizure_on:\n",
    "        seizure_off = row['offset_time_1']\n",
    "    elif row['offset_time_2'] > seizure_on:\n",
    "        seizure_off = row['offset_time_2']\n",
    "    else: seizure_off = row['offset_time_3']\n",
    "    seizure = seizure_off-seizure_on\n",
    "    normal = seizure_on-clip_start\n",
    "    ictal_total += seizure\n",
    "    non_ictal_total += normal"
   ]
  },
  {
   "cell_type": "code",
   "execution_count": 9,
   "metadata": {},
   "outputs": [
    {
     "data": {
      "text/plain": [
       "0.11193593119380296"
      ]
     },
     "execution_count": 9,
     "metadata": {},
     "output_type": "execute_result"
    }
   ],
   "source": [
    "ictal_total/(non_ictal_total+ictal_total)"
   ]
  },
  {
   "cell_type": "code",
   "execution_count": 37,
   "metadata": {},
   "outputs": [],
   "source": [
    "import numpy as np\n",
    "import pandas as pd\n",
    "from ieeg.auth import Session\n",
    "from numbers import Number\n",
    "import torch\n",
    "from torch.nn.utils.rnn import pad_sequence\n",
    "import pyedflib\n",
    "from scipy.signal import butter, filtfilt\n",
    "\n",
    "def filtering(data,fs,bandpass):\n",
    "    nyquist = fs/2\n",
    "    low = bandpass[0] / nyquist\n",
    "    high = bandpass[1] / nyquist\n",
    "    b, a = butter(5, [low, high], btype='band')\n",
    "    filtered_data = filtfilt(b, a, data)\n",
    "    return filtered_data\n",
    "\n",
    "x = []\n",
    "edf_reader = pyedflib.EdfReader('/mnt/sauce/littlab/users/kuangzy/scalp_eeg/edf_files_seizure_end/EMU2085_2.edf')\n",
    "for chn in range(18):\n",
    "    x.append(edf_reader.readSignal(chn))\n",
    "x = np.array(x) # shape of (channel, time)\n",
    "x = torch.from_numpy(x).float()\n",
    "edf_reader.close()"
   ]
  },
  {
   "cell_type": "code",
   "execution_count": 2,
   "metadata": {},
   "outputs": [
    {
     "name": "stderr",
     "output_type": "stream",
     "text": [
      "/tmp/ipykernel_36573/2794972981.py:1: FutureWarning: You are using `torch.load` with `weights_only=False` (the current default value), which uses the default pickle module implicitly. It is possible to construct malicious pickle data which will execute arbitrary code during unpickling (See https://github.com/pytorch/pytorch/blob/main/SECURITY.md#untrusted-models for more details). In a future release, the default value for `weights_only` will be flipped to `True`. This limits the functions that could be executed during unpickling. Arbitrary objects will no longer be allowed to be loaded via this mode unless they are explicitly allowlisted by the user via `torch.serialization.add_safe_globals`. We recommend you start setting `weights_only=True` for any use case where you don't have full control of the loaded file. Please open an issue on GitHub for any issues related to this experimental feature.\n",
      "  checkpoint = torch.load('onset_detection/model_checkpoint.pth')\n"
     ]
    }
   ],
   "source": [
    "checkpoint = torch.load('onset_detection/checkpoints/best_model.pth')"
   ]
  },
  {
   "cell_type": "code",
   "execution_count": 1,
   "metadata": {},
   "outputs": [
    {
     "name": "stdout",
     "output_type": "stream",
     "text": [
      "/mnt/sauce/littlab/users/kuangzy/scalp_eeg/edf_files/EMU2039_2.edf\n",
      "/mnt/sauce/littlab/users/kuangzy/scalp_eeg/edf_files/EMU2174_2.edf\n",
      "/mnt/sauce/littlab/users/kuangzy/scalp_eeg/edf_files/EMU2138_17.edf\n",
      "/mnt/sauce/littlab/users/kuangzy/scalp_eeg/edf_files/EMU2233_2.edf\n",
      "/mnt/sauce/littlab/users/kuangzy/scalp_eeg/edf_files/EMU1501_1.edf\n",
      "/mnt/sauce/littlab/users/kuangzy/scalp_eeg/edf_files/EMU2138_10.edf\n",
      "/mnt/sauce/littlab/users/kuangzy/scalp_eeg/edf_files/EMU1456_1.edf\n",
      "/mnt/sauce/littlab/users/kuangzy/scalp_eeg/edf_files/EMU2162_5.edf\n",
      "/mnt/sauce/littlab/users/kuangzy/scalp_eeg/edf_files/EMU1813_2.edf\n",
      "/mnt/sauce/littlab/users/kuangzy/scalp_eeg/edf_files/EMU1881_2.edf\n",
      "/mnt/sauce/littlab/users/kuangzy/scalp_eeg/edf_files/EMU2321_1.edf\n",
      "/mnt/sauce/littlab/users/kuangzy/scalp_eeg/edf_files/EMU2113_12.edf\n",
      "/mnt/sauce/littlab/users/kuangzy/scalp_eeg/edf_files/EMU1712_7.edf\n",
      "/mnt/sauce/littlab/users/kuangzy/scalp_eeg/edf_files/EMU1992_8.edf\n",
      "/mnt/sauce/littlab/users/kuangzy/scalp_eeg/edf_files/EMU2352_2.edf\n",
      "/mnt/sauce/littlab/users/kuangzy/scalp_eeg/edf_files/EMU2346_3.edf\n",
      "/mnt/sauce/littlab/users/kuangzy/scalp_eeg/edf_files/EMU2256_1.edf\n",
      "/mnt/sauce/littlab/users/kuangzy/scalp_eeg/edf_files/EMU2113_9.edf\n",
      "/mnt/sauce/littlab/users/kuangzy/scalp_eeg/edf_files/EMU1928_3.edf\n",
      "/mnt/sauce/littlab/users/kuangzy/scalp_eeg/edf_files/EMU1717_2.edf\n",
      "/mnt/sauce/littlab/users/kuangzy/scalp_eeg/edf_files/EMU2343_1.edf\n",
      "/mnt/sauce/littlab/users/kuangzy/scalp_eeg/edf_files/EMU1826_2.edf\n",
      "/mnt/sauce/littlab/users/kuangzy/scalp_eeg/edf_files/EMU1665_1.edf\n",
      "/mnt/sauce/littlab/users/kuangzy/scalp_eeg/edf_files/EMU2252_2.edf\n",
      "/mnt/sauce/littlab/users/kuangzy/scalp_eeg/edf_files/EMU1788_3.edf\n",
      "/mnt/sauce/littlab/users/kuangzy/scalp_eeg/edf_files/EMU2138_23.edf\n",
      "/mnt/sauce/littlab/users/kuangzy/scalp_eeg/edf_files/EMU2274_1.edf\n",
      "/mnt/sauce/littlab/users/kuangzy/scalp_eeg/edf_files/EMU2138_11.edf\n",
      "/mnt/sauce/littlab/users/kuangzy/scalp_eeg/edf_files/EMU2138_18.edf\n",
      "/mnt/sauce/littlab/users/kuangzy/scalp_eeg/edf_files/EMU2189_4.edf\n",
      "/mnt/sauce/littlab/users/kuangzy/scalp_eeg/edf_files/EMU1897_3.edf\n",
      "/mnt/sauce/littlab/users/kuangzy/scalp_eeg/edf_files/EMU2167_1.edf\n",
      "/mnt/sauce/littlab/users/kuangzy/scalp_eeg/edf_files/EMU2100_3.edf\n",
      "/mnt/sauce/littlab/users/kuangzy/scalp_eeg/edf_files/EMU2100_4.edf\n",
      "/mnt/sauce/littlab/users/kuangzy/scalp_eeg/edf_files/EMU2253_5.edf\n",
      "/mnt/sauce/littlab/users/kuangzy/scalp_eeg/edf_files/EMU2000_10.edf\n",
      "/mnt/sauce/littlab/users/kuangzy/scalp_eeg/edf_files/EMU1829_3.edf\n",
      "/mnt/sauce/littlab/users/kuangzy/scalp_eeg/edf_files/EMU1776_2.edf\n",
      "/mnt/sauce/littlab/users/kuangzy/scalp_eeg/edf_files/EMU1712_6.edf\n",
      "/mnt/sauce/littlab/users/kuangzy/scalp_eeg/edf_files/EMU2325_5.edf\n",
      "/mnt/sauce/littlab/users/kuangzy/scalp_eeg/edf_files/EMU1843_2.edf\n",
      "/mnt/sauce/littlab/users/kuangzy/scalp_eeg/edf_files/EMU1834_4.edf\n",
      "/mnt/sauce/littlab/users/kuangzy/scalp_eeg/edf_files/EMU1528_1.edf\n",
      "/mnt/sauce/littlab/users/kuangzy/scalp_eeg/edf_files/EMU1913_1.edf\n",
      "/mnt/sauce/littlab/users/kuangzy/scalp_eeg/edf_files/EMU2242_2.edf\n",
      "/mnt/sauce/littlab/users/kuangzy/scalp_eeg/edf_files/EMU2175_7.edf\n",
      "/mnt/sauce/littlab/users/kuangzy/scalp_eeg/edf_files/EMU2001_1.edf\n",
      "/mnt/sauce/littlab/users/kuangzy/scalp_eeg/edf_files/EMU2112_2.edf\n",
      "/mnt/sauce/littlab/users/kuangzy/scalp_eeg/edf_files/EMU1826_1.edf\n",
      "/mnt/sauce/littlab/users/kuangzy/scalp_eeg/edf_files/EMU1407_1.edf\n",
      "/mnt/sauce/littlab/users/kuangzy/scalp_eeg/edf_files/EMU2351_1.edf\n",
      "/mnt/sauce/littlab/users/kuangzy/scalp_eeg/edf_files/EMU1728_5.edf\n",
      "/mnt/sauce/littlab/users/kuangzy/scalp_eeg/edf_files/EMU2314_2.edf\n",
      "/mnt/sauce/littlab/users/kuangzy/scalp_eeg/edf_files/EMU1925_1.edf\n",
      "/mnt/sauce/littlab/users/kuangzy/scalp_eeg/edf_files/EMU2274_2.edf\n",
      "/mnt/sauce/littlab/users/kuangzy/scalp_eeg/edf_files/EMU1821_2.edf\n",
      "/mnt/sauce/littlab/users/kuangzy/scalp_eeg/edf_files/EMU1856_3.edf\n",
      "/mnt/sauce/littlab/users/kuangzy/scalp_eeg/edf_files/EMU2127_4.edf\n",
      "/mnt/sauce/littlab/users/kuangzy/scalp_eeg/edf_files/EMU2051_3.edf\n",
      "/mnt/sauce/littlab/users/kuangzy/scalp_eeg/edf_files/EMU2302_2.edf\n",
      "/mnt/sauce/littlab/users/kuangzy/scalp_eeg/edf_files/EMU1897_9.edf\n",
      "/mnt/sauce/littlab/users/kuangzy/scalp_eeg/edf_files/EMU2269_1.edf\n",
      "/mnt/sauce/littlab/users/kuangzy/scalp_eeg/edf_files/EMU1718_1.edf\n",
      "/mnt/sauce/littlab/users/kuangzy/scalp_eeg/edf_files/EMU1963_2.edf\n",
      "/mnt/sauce/littlab/users/kuangzy/scalp_eeg/edf_files/EMU1995_1.edf\n",
      "/mnt/sauce/littlab/users/kuangzy/scalp_eeg/edf_files/EMU1712_4.edf\n",
      "/mnt/sauce/littlab/users/kuangzy/scalp_eeg/edf_files/EMU2183_2.edf\n",
      "/mnt/sauce/littlab/users/kuangzy/scalp_eeg/edf_files/EMU2138_37.edf\n",
      "/mnt/sauce/littlab/users/kuangzy/scalp_eeg/edf_files/EMU1992_5.edf\n",
      "/mnt/sauce/littlab/users/kuangzy/scalp_eeg/edf_files/EMU2325_9.edf\n",
      "/mnt/sauce/littlab/users/kuangzy/scalp_eeg/edf_files/EMU1992_2.edf\n",
      "/mnt/sauce/littlab/users/kuangzy/scalp_eeg/edf_files/EMU2015_1.edf\n",
      "/mnt/sauce/littlab/users/kuangzy/scalp_eeg/edf_files/EMU1752_2.edf\n",
      "/mnt/sauce/littlab/users/kuangzy/scalp_eeg/edf_files/EMU2142_1.edf\n",
      "/mnt/sauce/littlab/users/kuangzy/scalp_eeg/edf_files/EMU2168_2.edf\n",
      "/mnt/sauce/littlab/users/kuangzy/scalp_eeg/edf_files/EMU2252_11.edf\n",
      "/mnt/sauce/littlab/users/kuangzy/scalp_eeg/edf_files/EMU1755_1.edf\n",
      "/mnt/sauce/littlab/users/kuangzy/scalp_eeg/edf_files/EMU2100_6.edf\n",
      "/mnt/sauce/littlab/users/kuangzy/scalp_eeg/edf_files/EMU2297_1.edf\n",
      "/mnt/sauce/littlab/users/kuangzy/scalp_eeg/edf_files/EMU1927_1.edf\n",
      "/mnt/sauce/littlab/users/kuangzy/scalp_eeg/edf_files/EMU1897_1.edf\n",
      "/mnt/sauce/littlab/users/kuangzy/scalp_eeg/edf_files/EMU2162_6.edf\n",
      "/mnt/sauce/littlab/users/kuangzy/scalp_eeg/edf_files/EMU2252_9.edf\n",
      "/mnt/sauce/littlab/users/kuangzy/scalp_eeg/edf_files/EMU2127_5.edf\n",
      "/mnt/sauce/littlab/users/kuangzy/scalp_eeg/edf_files/EMU1856_5.edf\n",
      "/mnt/sauce/littlab/users/kuangzy/scalp_eeg/edf_files/EMU2345_1.edf\n",
      "/mnt/sauce/littlab/users/kuangzy/scalp_eeg/edf_files/EMU1680_2.edf\n",
      "/mnt/sauce/littlab/users/kuangzy/scalp_eeg/edf_files/EMU2144_2.edf\n",
      "/mnt/sauce/littlab/users/kuangzy/scalp_eeg/edf_files/EMU1936_2.edf\n"
     ]
    }
   ],
   "source": [
    "import pickle\n",
    "with open('/mnt/sauce/littlab/users/kuangzy/scalp_eeg/test_edf.pkl','rb') as f:\n",
    "    test = pickle.load(f)\n",
    "for f in test:\n",
    "    f_ = f.replace('edf_files_seizure_end','edf_files')\n",
    "    print(f_)"
   ]
  }
 ],
 "metadata": {
  "kernelspec": {
   "display_name": "myenv1",
   "language": "python",
   "name": "python3"
  },
  "language_info": {
   "codemirror_mode": {
    "name": "ipython",
    "version": 3
   },
   "file_extension": ".py",
   "mimetype": "text/x-python",
   "name": "python",
   "nbconvert_exporter": "python",
   "pygments_lexer": "ipython3",
   "version": "3.11.10"
  }
 },
 "nbformat": 4,
 "nbformat_minor": 2
}

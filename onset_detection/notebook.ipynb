{
 "cells": [
  {
   "cell_type": "markdown",
   "metadata": {},
   "source": [
    "# 12-27"
   ]
  },
  {
   "cell_type": "markdown",
   "metadata": {},
   "source": [
    "problem found:\n",
    "1. lengths of labels and signal not matching -> edf reader sampling/truncation problem -> edf reader saves with integer seconds\n",
    "    - truncate signals in dataset to match with labels\n",
    "    - ignore those has earlier seizure onset time"
   ]
  },
  {
   "cell_type": "markdown",
   "metadata": {},
   "source": [
    "# 12-28\n",
    "TO DO:\n",
    "1. complete sliding window function DONE\n",
    "2. complete training and validation code DONE\n",
    "3. (optional) re-download ieeg data, simutaneously for seizure_end and complete ones "
   ]
  },
  {
   "cell_type": "markdown",
   "metadata": {},
   "source": [
    "#12-30\n",
    "TO DO:\n",
    "1. complete performance checking"
   ]
  },
  {
   "cell_type": "code",
   "execution_count": 8,
   "metadata": {},
   "outputs": [],
   "source": [
    "import torch\n",
    "y = torch.tensor([[0],[0],[0],[0],[0],[0]]).type(torch.LongTensor)\n",
    "seiz_count = torch.count_nonzero(y,dim=0)\n",
    "target,_ = torch.max(y,0)\n",
    "target[seiz_count<1] = 0\n",
    "target\n",
    "target = torch.round(target).type(torch.LongTensor)"
   ]
  }
 ],
 "metadata": {
  "kernelspec": {
   "display_name": "myenv1",
   "language": "python",
   "name": "python3"
  },
  "language_info": {
   "codemirror_mode": {
    "name": "ipython",
    "version": 3
   },
   "file_extension": ".py",
   "mimetype": "text/x-python",
   "name": "python",
   "nbconvert_exporter": "python",
   "pygments_lexer": "ipython3",
   "version": "3.11.10"
  }
 },
 "nbformat": 4,
 "nbformat_minor": 2
}
